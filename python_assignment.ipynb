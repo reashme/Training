{
 "cells": [
  {
   "cell_type": "code",
   "execution_count": 1,
   "id": "5767cfa4",
   "metadata": {},
   "outputs": [],
   "source": [
    "##Three different variables\n",
    "\n",
    "a=10 \n",
    "b=25.25\n",
    "c=\"hello\""
   ]
  },
  {
   "cell_type": "code",
   "execution_count": 2,
   "id": "6495d937",
   "metadata": {},
   "outputs": [
    {
     "data": {
      "text/plain": [
       "10"
      ]
     },
     "execution_count": 2,
     "metadata": {},
     "output_type": "execute_result"
    }
   ],
   "source": [
    "a"
   ]
  },
  {
   "cell_type": "code",
   "execution_count": 3,
   "id": "b95d532b",
   "metadata": {},
   "outputs": [],
   "source": [
    "##variable type complex\n",
    "\n",
    "d=3+6j"
   ]
  },
  {
   "cell_type": "code",
   "execution_count": 5,
   "id": "5805c10f",
   "metadata": {},
   "outputs": [
    {
     "data": {
      "text/plain": [
       "complex"
      ]
     },
     "execution_count": 5,
     "metadata": {},
     "output_type": "execute_result"
    }
   ],
   "source": [
    "type(d)"
   ]
  },
  {
   "cell_type": "code",
   "execution_count": 6,
   "id": "85207fe1",
   "metadata": {},
   "outputs": [],
   "source": [
    "d=30"
   ]
  },
  {
   "cell_type": "code",
   "execution_count": 7,
   "id": "b59d5542",
   "metadata": {},
   "outputs": [
    {
     "data": {
      "text/plain": [
       "30"
      ]
     },
     "execution_count": 7,
     "metadata": {},
     "output_type": "execute_result"
    }
   ],
   "source": [
    "d"
   ]
  },
  {
   "cell_type": "code",
   "execution_count": 8,
   "id": "44424f03",
   "metadata": {},
   "outputs": [],
   "source": [
    "##swap 2 variables without using 3rd\n",
    "\n",
    "var1=10\n",
    "var2=20"
   ]
  },
  {
   "cell_type": "code",
   "execution_count": 9,
   "id": "e424ef98",
   "metadata": {},
   "outputs": [],
   "source": [
    "temp=var1\n",
    "var1=var2\n",
    "var2=temp"
   ]
  },
  {
   "cell_type": "code",
   "execution_count": 10,
   "id": "6a425dba",
   "metadata": {},
   "outputs": [
    {
     "data": {
      "text/plain": [
       "20"
      ]
     },
     "execution_count": 10,
     "metadata": {},
     "output_type": "execute_result"
    }
   ],
   "source": [
    "var1"
   ]
  },
  {
   "cell_type": "code",
   "execution_count": 11,
   "id": "53cb944f",
   "metadata": {},
   "outputs": [
    {
     "data": {
      "text/plain": [
       "10"
      ]
     },
     "execution_count": 11,
     "metadata": {},
     "output_type": "execute_result"
    }
   ],
   "source": [
    "var2"
   ]
  },
  {
   "cell_type": "code",
   "execution_count": 13,
   "id": "77414a9d",
   "metadata": {},
   "outputs": [
    {
     "name": "stdout",
     "output_type": "stream",
     "text": [
      "please enter a interger value: 6\n"
     ]
    }
   ],
   "source": [
    "##Takes user input\n",
    "\n",
    "my_input=int(input(\"please enter a interger value: \"))"
   ]
  },
  {
   "cell_type": "code",
   "execution_count": 36,
   "id": "3a926d5e",
   "metadata": {},
   "outputs": [
    {
     "name": "stdout",
     "output_type": "stream",
     "text": [
      "Enter 2 values between 1-10: 5 4\n",
      "The value of x:  5\n",
      "The value of y:  4\n",
      "9\n",
      "39\n"
     ]
    }
   ],
   "source": [
    "##2 inputs sum to a variable \n",
    "\n",
    "\n",
    "x, y=[int(x) for x in input(\"Enter 2 values between 1-10: \").split()]\n",
    "print(\"The value of x: \",x)\n",
    "print(\"The value of y: \",y)\n",
    "print(x+y)\n",
    "\n",
    "z=x+y+30\n",
    "result=z\n",
    "print(z)\n",
    "\n"
   ]
  },
  {
   "cell_type": "code",
   "execution_count": 37,
   "id": "1e88dfa1",
   "metadata": {},
   "outputs": [
    {
     "data": {
      "text/plain": [
       "39"
      ]
     },
     "execution_count": 37,
     "metadata": {},
     "output_type": "execute_result"
    }
   ],
   "source": [
    "z"
   ]
  },
  {
   "cell_type": "raw",
   "id": "1bd5571d",
   "metadata": {},
   "source": [
    "result"
   ]
  },
  {
   "cell_type": "code",
   "execution_count": 34,
   "id": "92ac18da",
   "metadata": {},
   "outputs": [
    {
     "data": {
      "text/plain": [
       "39"
      ]
     },
     "execution_count": 34,
     "metadata": {},
     "output_type": "execute_result"
    }
   ],
   "source": [
    "result"
   ]
  },
  {
   "cell_type": "code",
   "execution_count": 39,
   "id": "9150233f",
   "metadata": {},
   "outputs": [],
   "source": [
    "#checking data types\n",
    "a=5\n",
    "b=\"hello\"\n",
    "c=3.6\n"
   ]
  },
  {
   "cell_type": "code",
   "execution_count": 43,
   "id": "c5686eb6",
   "metadata": {},
   "outputs": [
    {
     "data": {
      "text/plain": [
       "float"
      ]
     },
     "execution_count": 43,
     "metadata": {},
     "output_type": "execute_result"
    }
   ],
   "source": [
    "type(c)"
   ]
  },
  {
   "cell_type": "code",
   "execution_count": 44,
   "id": "f44e8794",
   "metadata": {},
   "outputs": [
    {
     "data": {
      "text/plain": [
       "int"
      ]
     },
     "execution_count": 44,
     "metadata": {},
     "output_type": "execute_result"
    }
   ],
   "source": [
    "type(a)"
   ]
  },
  {
   "cell_type": "code",
   "execution_count": 45,
   "id": "dc2b4193",
   "metadata": {},
   "outputs": [],
   "source": [
    "#Uppercamel case, lower, snake\n",
    "snowFall=10\n",
    "HenFlock=20\n",
    "cupcake=30"
   ]
  },
  {
   "cell_type": "code",
   "execution_count": 46,
   "id": "b59b0e82",
   "metadata": {},
   "outputs": [
    {
     "ename": "SyntaxError",
     "evalue": "invalid syntax (<ipython-input-46-eb639618e319>, line 3)",
     "output_type": "error",
     "traceback": [
      "\u001b[1;36m  File \u001b[1;32m\"<ipython-input-46-eb639618e319>\"\u001b[1;36m, line \u001b[1;32m3\u001b[0m\n\u001b[1;33m    Yes it will change the value, because it is dynamically typed language.\u001b[0m\n\u001b[1;37m        ^\u001b[0m\n\u001b[1;31mSyntaxError\u001b[0m\u001b[1;31m:\u001b[0m invalid syntax\n"
     ]
    }
   ],
   "source": [
    "#data type variable change\n",
    "\n",
    "Yes, it will change the value, because it is dynamically typed language."
   ]
  },
  {
   "cell_type": "code",
   "execution_count": 52,
   "id": "190262a6",
   "metadata": {},
   "outputs": [
    {
     "name": "stdout",
     "output_type": "stream",
     "text": [
      "pass\n",
      "pass\n",
      "Consultadd\n",
      "pass\n",
      "Python Training\n",
      "Consultadd\n",
      "pass\n",
      "pass\n",
      "Consultadd\n",
      "Consultadd-Python training\n"
     ]
    }
   ],
   "source": [
    "##divisble by 3 and 5 and both\n",
    "num=[1,2,3,4,5,6,7,8,9,15]\n",
    "\n",
    "\n",
    "for x in num:\n",
    "    if x%3==0 and x%5==0:\n",
    "        print(\"Consultadd-Python training\")\n",
    "    elif x%5==0:\n",
    "        print(\"Python Training\")\n",
    "    elif x%3==0:\n",
    "        print(\"Consultadd\")\n",
    "    else:\n",
    "        print(\"pass\")\n",
    "    "
   ]
  },
  {
   "cell_type": "code",
   "execution_count": 70,
   "id": "2354b2c9",
   "metadata": {},
   "outputs": [
    {
     "name": "stdout",
     "output_type": "stream",
     "text": [
      "Enter 2 values: 5 5\n",
      "The value of x:  5\n",
      "The value of y:  5\n",
      "pls enter a value between 1 to 5: 3\n",
      "25\n"
     ]
    }
   ],
   "source": [
    "## Operator based task\n",
    "\n",
    "x, y=[int(x) for x in input(\"Enter 2 values: \").split()]\n",
    "print(\"The value of x: \",x)\n",
    "print(\"The value of y: \",y)\n",
    "\n",
    "\n",
    "user_input=int(input(\"pls enter a value between 1 to 5: \"))\n",
    "if user_input==1:\n",
    "    if x+y<0:\n",
    "        print(\"Negative\")\n",
    "    print(x+y)\n",
    "if user_input==2:\n",
    "    if x+y<0:\n",
    "        print(\"Negative\")\n",
    "    print(x-y)\n",
    "if user_input==3:\n",
    "    if x+y<0:\n",
    "        print(\"Negative\")\n",
    "    print(x*y)\n",
    "if user_input==4:\n",
    "    if x+y<0:\n",
    "        print(\"Negative\")\n",
    "    print(x/y)\n",
    "if user_input==5:\n",
    "    if x+y<0:\n",
    "        print(\"Negative\")\n",
    "    avg=(x+y)/2\n",
    "    print(avg)\n",
    " \n"
   ]
  },
  {
   "cell_type": "code",
   "execution_count": 72,
   "id": "e90a4d54",
   "metadata": {},
   "outputs": [
    {
     "name": "stdout",
     "output_type": "stream",
     "text": [
      "avg= 20.0\n",
      "average is just higher than a\n"
     ]
    }
   ],
   "source": [
    "##flow chart\n",
    "\n",
    "a=10\n",
    "b=20\n",
    "c=30\n",
    "\n",
    "avg=(a+b+c)/3\n",
    "print(\"avg=\",avg)\n",
    "\n",
    "if avg>a and avg>b and avg>c:\n",
    "    print(\"average is higher than a,b,c\")\n",
    "elif avg>a and avg>b:\n",
    "    print(\"average is higher than a,b\")\n",
    "elif avg>a and avg>c:\n",
    "    print(\"average is higher than a,c\")\n",
    "elif avg>b and avg>c:\n",
    "    print(\"average is higher than b,c\")\n",
    "elif avg>a:\n",
    "    print(\"average is just higher than a\")\n",
    "elif avg>b:\n",
    "    print(\"average is just higher than b\")\n",
    "elif avg>c:\n",
    "    print(\"average is just higher than c\")\n",
    "\n",
    "\n",
    "\n",
    "\n",
    "\n"
   ]
  },
  {
   "cell_type": "code",
   "execution_count": 83,
   "id": "090ab462",
   "metadata": {},
   "outputs": [
    {
     "name": "stdout",
     "output_type": "stream",
     "text": [
      "pls enter a number: 5\n",
      "good going\n",
      "pls enter a number: 3\n",
      "good going\n",
      "pls enter a number: 6\n",
      "good going\n",
      "pls enter a number: 7\n",
      "good going\n",
      "pls enter a number: -6\n",
      "it's over\n"
     ]
    }
   ],
   "source": [
    "#Break and continue\n",
    "while True:\n",
    "    \n",
    "    user_input=int(input(\"pls enter a number: \"))\n",
    "    \n",
    "    if user_input<0:\n",
    "        print(\"it's over\")\n",
    "        break\n",
    "    elif user_input>0:\n",
    "        print(\"good going\")\n",
    "        continue\n",
    "    \n",
    "    "
   ]
  },
  {
   "cell_type": "code",
   "execution_count": 93,
   "id": "0abf7d93",
   "metadata": {},
   "outputs": [],
   "source": [
    "##Write a program in Python which will find all such numbers which are divisible by 7 but are not a\n",
    "##multiple of 5, between 2000 and 3200.\n",
    "num=[]\n",
    "for x in range(2000,3200):\n",
    "    if x%7==0 and x%5!=0:\n",
    "        num.append(x)"
   ]
  },
  {
   "cell_type": "code",
   "execution_count": 94,
   "id": "4af71945",
   "metadata": {},
   "outputs": [
    {
     "data": {
      "text/plain": [
       "[2002,\n",
       " 2009,\n",
       " 2016,\n",
       " 2023,\n",
       " 2037,\n",
       " 2044,\n",
       " 2051,\n",
       " 2058,\n",
       " 2072,\n",
       " 2079,\n",
       " 2086,\n",
       " 2093,\n",
       " 2107,\n",
       " 2114,\n",
       " 2121,\n",
       " 2128,\n",
       " 2142,\n",
       " 2149,\n",
       " 2156,\n",
       " 2163,\n",
       " 2177,\n",
       " 2184,\n",
       " 2191,\n",
       " 2198,\n",
       " 2212,\n",
       " 2219,\n",
       " 2226,\n",
       " 2233,\n",
       " 2247,\n",
       " 2254,\n",
       " 2261,\n",
       " 2268,\n",
       " 2282,\n",
       " 2289,\n",
       " 2296,\n",
       " 2303,\n",
       " 2317,\n",
       " 2324,\n",
       " 2331,\n",
       " 2338,\n",
       " 2352,\n",
       " 2359,\n",
       " 2366,\n",
       " 2373,\n",
       " 2387,\n",
       " 2394,\n",
       " 2401,\n",
       " 2408,\n",
       " 2422,\n",
       " 2429,\n",
       " 2436,\n",
       " 2443,\n",
       " 2457,\n",
       " 2464,\n",
       " 2471,\n",
       " 2478,\n",
       " 2492,\n",
       " 2499,\n",
       " 2506,\n",
       " 2513,\n",
       " 2527,\n",
       " 2534,\n",
       " 2541,\n",
       " 2548,\n",
       " 2562,\n",
       " 2569,\n",
       " 2576,\n",
       " 2583,\n",
       " 2597,\n",
       " 2604,\n",
       " 2611,\n",
       " 2618,\n",
       " 2632,\n",
       " 2639,\n",
       " 2646,\n",
       " 2653,\n",
       " 2667,\n",
       " 2674,\n",
       " 2681,\n",
       " 2688,\n",
       " 2702,\n",
       " 2709,\n",
       " 2716,\n",
       " 2723,\n",
       " 2737,\n",
       " 2744,\n",
       " 2751,\n",
       " 2758,\n",
       " 2772,\n",
       " 2779,\n",
       " 2786,\n",
       " 2793,\n",
       " 2807,\n",
       " 2814,\n",
       " 2821,\n",
       " 2828,\n",
       " 2842,\n",
       " 2849,\n",
       " 2856,\n",
       " 2863,\n",
       " 2877,\n",
       " 2884,\n",
       " 2891,\n",
       " 2898,\n",
       " 2912,\n",
       " 2919,\n",
       " 2926,\n",
       " 2933,\n",
       " 2947,\n",
       " 2954,\n",
       " 2961,\n",
       " 2968,\n",
       " 2982,\n",
       " 2989,\n",
       " 2996,\n",
       " 3003,\n",
       " 3017,\n",
       " 3024,\n",
       " 3031,\n",
       " 3038,\n",
       " 3052,\n",
       " 3059,\n",
       " 3066,\n",
       " 3073,\n",
       " 3087,\n",
       " 3094,\n",
       " 3101,\n",
       " 3108,\n",
       " 3122,\n",
       " 3129,\n",
       " 3136,\n",
       " 3143,\n",
       " 3157,\n",
       " 3164,\n",
       " 3171,\n",
       " 3178,\n",
       " 3192,\n",
       " 3199]"
      ]
     },
     "execution_count": 94,
     "metadata": {},
     "output_type": "execute_result"
    }
   ],
   "source": [
    "num"
   ]
  },
  {
   "cell_type": "code",
   "execution_count": 97,
   "id": "5acc267a",
   "metadata": {},
   "outputs": [
    {
     "name": "stdout",
     "output_type": "stream",
     "text": [
      "1\n",
      "2\n",
      "3\n"
     ]
    }
   ],
   "source": [
    "##output of code examples\n",
    "x=1,2,3\n",
    "\n",
    "for i in x:\n",
    "    print(i)"
   ]
  },
  {
   "cell_type": "code",
   "execution_count": 109,
   "id": "c5451cb0",
   "metadata": {},
   "outputs": [
    {
     "name": "stdout",
     "output_type": "stream",
     "text": [
      "0\n",
      "error\n",
      "1\n",
      "error\n",
      "2\n"
     ]
    }
   ],
   "source": [
    "\n",
    "i = 0\n",
    "\n",
    "while i < 5:\n",
    "    print(i)\n",
    "    i += 1\n",
    "    if i == 3:\n",
    "        break\n",
    "    else:\n",
    "        print(\"error\")"
   ]
  },
  {
   "cell_type": "code",
   "execution_count": 112,
   "id": "4d978ff4",
   "metadata": {},
   "outputs": [
    {
     "name": "stdout",
     "output_type": "stream",
     "text": [
      "3\n",
      "4\n"
     ]
    }
   ],
   "source": [
    "count=3\n",
    "while True:\n",
    "    print(count)\n",
    "    count += 1\n",
    "    if count >= 5:\n",
    "        break"
   ]
  },
  {
   "cell_type": "code",
   "execution_count": 115,
   "id": "150ea6d8",
   "metadata": {},
   "outputs": [],
   "source": [
    "#Write a program that prints all the numbers from 0 to 6 except 3 and 6.\n",
    "output=[]\n",
    "\n",
    "for x in range(0,7):\n",
    "    while x!=3 and x!=6:\n",
    "        output.append(x)\n",
    "        break\n",
    "        \n",
    "        "
   ]
  },
  {
   "cell_type": "code",
   "execution_count": 116,
   "id": "9f7d32a9",
   "metadata": {},
   "outputs": [
    {
     "data": {
      "text/plain": [
       "[0, 1, 2, 4, 5]"
      ]
     },
     "execution_count": 116,
     "metadata": {},
     "output_type": "execute_result"
    }
   ],
   "source": [
    "output"
   ]
  },
  {
   "cell_type": "code",
   "execution_count": 117,
   "id": "d626d769",
   "metadata": {},
   "outputs": [
    {
     "name": "stdout",
     "output_type": "stream",
     "text": [
      "0\n",
      "1\n",
      "2\n",
      "4\n",
      "5\n"
     ]
    }
   ],
   "source": [
    "for x in range(0,7):\n",
    "    if x==3 or x==6:\n",
    "        continue\n",
    "    else:\n",
    "        print(x)"
   ]
  },
  {
   "cell_type": "code",
   "execution_count": 119,
   "id": "f2eb755e",
   "metadata": {},
   "outputs": [
    {
     "name": "stdout",
     "output_type": "stream",
     "text": [
      "enter some words: hello123\n",
      "Number of string:  5\n",
      "number of number:  3\n"
     ]
    }
   ],
   "source": [
    "##Write a program that accepts a string as an input from the user and calculate the number of digits\n",
    "##and letters.\n",
    "sample_input=input(\"enter some words: \")\n",
    "\n",
    "number=0\n",
    "string=0\n",
    "\n",
    "for x in sample_input:\n",
    "    if (x.isalpha()):\n",
    "        string=string+1\n",
    "    elif (x.isnumeric()):\n",
    "        number=number+1\n",
    "print(\"Number of string: \",string)\n",
    "print(\"number of number: \",number)\n"
   ]
  },
  {
   "cell_type": "code",
   "execution_count": 141,
   "id": "3f0ff62e",
   "metadata": {},
   "outputs": [
    {
     "name": "stdout",
     "output_type": "stream",
     "text": [
      "please enter a number: 10\n",
      "you have guessed right\n"
     ]
    }
   ],
   "source": [
    "##guess the number\n",
    "a=10\n",
    "\n",
    "while True:\n",
    "    number=int(input(\"please enter a number: \"))\n",
    "    if number==a:\n",
    "        print(\"you have guessed right\")\n",
    "        break\n",
    "\n",
    "    answer=input(\"Do u want to continue Y or N: \")\n",
    "    if answer=='Y':\n",
    "        print(\"U wish to continue\")\n",
    "        continue\n",
    "    elif answer=='N':\n",
    "        break\n",
    "    else:\n",
    "        print('You have entered invalid option')"
   ]
  },
  {
   "cell_type": "code",
   "execution_count": 144,
   "id": "97b22e94",
   "metadata": {},
   "outputs": [
    {
     "name": "stdout",
     "output_type": "stream",
     "text": [
      "Pls enter your guess: 5\n",
      "Try Again\n",
      "Pls enter your guess: 4\n",
      "Try Again\n",
      "Pls enter your guess: 2\n",
      "Try Again\n",
      "Pls enter your guess: 10\n",
      "Good Guess\n"
     ]
    }
   ],
   "source": [
    "###Write a program that asks five times to guess the lucky number.\n",
    "a=10\n",
    "counter=1\n",
    "\n",
    "while counter<=5:\n",
    "    user_input=int(input(\"Pls enter your guess: \"))\n",
    "    if user_input==a:\n",
    "        print(\"Good Guess\")\n",
    "        break\n",
    "    else:\n",
    "        print(\"Try Again\")\n",
    "    counter+=1\n",
    "else:\n",
    "    print(\"Game Over\")\n"
   ]
  },
  {
   "cell_type": "code",
   "execution_count": 145,
   "id": "5b13ee67",
   "metadata": {},
   "outputs": [],
   "source": [
    "##Create a list of 10 elements of four different data types like int, string, complex and float.\n",
    "\n",
    "my_list=[3,\"reash\",4j,3.25]"
   ]
  },
  {
   "cell_type": "code",
   "execution_count": 146,
   "id": "43180ecf",
   "metadata": {},
   "outputs": [
    {
     "data": {
      "text/plain": [
       "[3, 'reash', 4j, 3.25]"
      ]
     },
     "execution_count": 146,
     "metadata": {},
     "output_type": "execute_result"
    }
   ],
   "source": [
    "my_list"
   ]
  },
  {
   "cell_type": "code",
   "execution_count": 147,
   "id": "e7d469cd",
   "metadata": {},
   "outputs": [],
   "source": [
    "##Create a list of size 5 and execute the slicing structure\n",
    "\n",
    "size_list=['apple','orange','grape','melon','fruit']\n"
   ]
  },
  {
   "cell_type": "code",
   "execution_count": 148,
   "id": "7fb05995",
   "metadata": {},
   "outputs": [
    {
     "data": {
      "text/plain": [
       "'melon'"
      ]
     },
     "execution_count": 148,
     "metadata": {},
     "output_type": "execute_result"
    }
   ],
   "source": [
    "size_list[3]"
   ]
  },
  {
   "cell_type": "code",
   "execution_count": 149,
   "id": "b2d73b48",
   "metadata": {},
   "outputs": [
    {
     "data": {
      "text/plain": [
       "['grape', 'melon', 'fruit']"
      ]
     },
     "execution_count": 149,
     "metadata": {},
     "output_type": "execute_result"
    }
   ],
   "source": [
    "size_list[2:]"
   ]
  },
  {
   "cell_type": "code",
   "execution_count": 150,
   "id": "d2783961",
   "metadata": {},
   "outputs": [],
   "source": [
    "##Write a program to get the sum and multiply of all the items in a given list.\n",
    "num_list=[1,2,3,4,5]"
   ]
  },
  {
   "cell_type": "code",
   "execution_count": 152,
   "id": "0a694b70",
   "metadata": {},
   "outputs": [
    {
     "data": {
      "text/plain": [
       "15"
      ]
     },
     "execution_count": 152,
     "metadata": {},
     "output_type": "execute_result"
    }
   ],
   "source": [
    "sum(num_list)"
   ]
  },
  {
   "cell_type": "code",
   "execution_count": 154,
   "id": "77f6c03a",
   "metadata": {},
   "outputs": [
    {
     "name": "stdout",
     "output_type": "stream",
     "text": [
      "120\n"
     ]
    }
   ],
   "source": [
    "new_list=1\n",
    "for x in num_list:\n",
    "    new_list=new_list*x\n",
    "print(new_list)\n",
    "    "
   ]
  },
  {
   "cell_type": "code",
   "execution_count": 155,
   "id": "4a1cbb00",
   "metadata": {},
   "outputs": [
    {
     "name": "stdout",
     "output_type": "stream",
     "text": [
      "50\n",
      "10\n"
     ]
    }
   ],
   "source": [
    "##Find the largest and smallest number from a given list.\n",
    "\n",
    "la_list=[10,20,30,40,50]\n",
    "\n",
    "small_num=la_list[0]\n",
    "large_num=la_list[0]\n",
    "\n",
    "for x in la_list:\n",
    "    if x<small_num:\n",
    "        small_num=x\n",
    "    if x>large_num:\n",
    "        large_num=x\n",
    "\n",
    "print(large_num)\n",
    "print(small_num)\n",
    "    \n",
    "    "
   ]
  },
  {
   "cell_type": "code",
   "execution_count": 156,
   "id": "2876f03b",
   "metadata": {},
   "outputs": [
    {
     "name": "stdout",
     "output_type": "stream",
     "text": [
      "[1, 3, 5, 7, 9]\n"
     ]
    }
   ],
   "source": [
    "##Create a new list which contains the specified numbers after removing the even numbers from a\n",
    "##predefined list.\n",
    "\n",
    "pre_list=[1,2,3,4,5,6,7,8,9,10]\n",
    "\n",
    "new_list=[]\n",
    "\n",
    "for x in pre_list:\n",
    "    if x%2==1:\n",
    "        new_list.append(x)\n",
    "print(new_list)\n",
    "        "
   ]
  },
  {
   "cell_type": "code",
   "execution_count": 170,
   "id": "9beeca99",
   "metadata": {},
   "outputs": [
    {
     "name": "stdout",
     "output_type": "stream",
     "text": [
      "[1, 4, 9, 16, 25]\n",
      "[676, 729, 784, 841, 900]\n"
     ]
    }
   ],
   "source": [
    "##Create a list of elements such that it contains the squares of the first and last 5 elements between\n",
    "##1 and30 (both included).\n",
    "\n",
    "ele_list=range(1,31)\n",
    "\n",
    "first_five=[]\n",
    "last_five=[]\n",
    "for x in ele_list[0:5]:\n",
    "    \n",
    "    first_five.append(x*x)\n",
    "print(first_five)\n",
    "\n",
    "for x in ele_list[-5:]:\n",
    "    \n",
    "    last_five.append(x*x)\n",
    "print(last_five)\n",
    "    \n",
    "    "
   ]
  },
  {
   "cell_type": "code",
   "execution_count": 173,
   "id": "254a1774",
   "metadata": {},
   "outputs": [
    {
     "name": "stdout",
     "output_type": "stream",
     "text": [
      "[1, 3, 5, 7, 9, 2, 4, 6, 8]\n"
     ]
    }
   ],
   "source": [
    "##Write a program to replace the last element in a list with another list.\n",
    "\n",
    "sample_list=[1,3,5,7,9,10]\n",
    "sample2_list=[2,4,6,8]\n",
    "\n",
    "sample_list.pop(-1)\n",
    "for x in sample2_list:\n",
    "    sample_list.append(x)\n",
    "print(sample_list)"
   ]
  },
  {
   "cell_type": "code",
   "execution_count": 193,
   "id": "dd280b18",
   "metadata": {},
   "outputs": [
    {
     "name": "stdout",
     "output_type": "stream",
     "text": [
      "{1: 10, 2: 20, 3: 30, 4: 40}\n"
     ]
    }
   ],
   "source": [
    "##Create a new dictionary by concatenating the following two dictionaries:\n",
    "\n",
    "sample_a={1:10,2:20}\n",
    "sample_b={3:30,4:40}\n",
    "sample_c={}\n",
    "for d in [sample_a,sample_b]:\n",
    "    sample_c.update(d)\n",
    "print(sample_c)"
   ]
  },
  {
   "cell_type": "code",
   "execution_count": 195,
   "id": "96a5c21b",
   "metadata": {},
   "outputs": [
    {
     "name": "stdout",
     "output_type": "stream",
     "text": [
      "{1: 1, 2: 4, 3: 9, 4: 16, 5: 25}\n"
     ]
    }
   ],
   "source": [
    "##Create a dictionary that contain numbers in the form(x:x*x) where x takes all the values between 1\n",
    "##and n(both 1 and n included).\n",
    "\n",
    "n=5\n",
    "d=dict()\n",
    "\n",
    "for x in range(1,6):\n",
    "    d[x]=x*x\n",
    "print(d)"
   ]
  },
  {
   "cell_type": "code",
   "execution_count": 201,
   "id": "acc04c3d",
   "metadata": {},
   "outputs": [
    {
     "name": "stdout",
     "output_type": "stream",
     "text": [
      "enter numbers with comma: 1,2,3\n",
      " ['1', '2', '3']\n",
      " ('1', '2', '3')\n"
     ]
    }
   ],
   "source": [
    "##Write a program which accepts a sequence of comma-separated numbers from console and\n",
    "##generates a list and a tuple which contains every number in the form of string.\n",
    "\n",
    "my_input=input(\"enter numbers with comma: \")\n",
    "\n",
    "list=my_input.split(\",\")\n",
    "my_tuple=tuple(list)\n",
    "print('',list)\n",
    "print('',my_tuple)\n"
   ]
  },
  {
   "cell_type": "code",
   "execution_count": 203,
   "id": "07fd74a8",
   "metadata": {},
   "outputs": [
    {
     "name": "stdout",
     "output_type": "stream",
     "text": [
      "dcba321\n"
     ]
    }
   ],
   "source": [
    "##Write a program to reverse a string.\n",
    "\n",
    "my_program=\"123abcd\"[::-1]\n",
    "print(my_program)\n"
   ]
  },
  {
   "cell_type": "code",
   "execution_count": 205,
   "id": "56da1df6",
   "metadata": {},
   "outputs": [
    {
     "name": "stdout",
     "output_type": "stream",
     "text": [
      "Pls enter a sentance: Hello How Are You\n",
      "4\n",
      "10\n"
     ]
    }
   ],
   "source": [
    "##Write a function that accepts a string and prints the number of uppercase letters and lowercase\n",
    "##letters.\n",
    "\n",
    "user_input=input(\"Pls enter a sentance: \")\n",
    "\n",
    "upper_case=0\n",
    "lower_case=0\n",
    "\n",
    "for i in user_input:\n",
    "    if i.islower():\n",
    "        lower_case+=1\n",
    "    elif i.isupper():\n",
    "        upper_case+=1\n",
    "    else:\n",
    "        pass\n",
    "print(upper_case)\n",
    "print(lower_case)"
   ]
  },
  {
   "cell_type": "code",
   "execution_count": 214,
   "id": "72e65089",
   "metadata": {},
   "outputs": [],
   "source": [
    "##Create a function that takes a list and returns a new list with unique elements of the first list.\n",
    "\n",
    "def my_func(li):\n",
    "    \n",
    "    new_list=[]\n",
    "    \n",
    "    for x in li:\n",
    "        if x not in new_list:\n",
    "            new_list.append(x)\n",
    "    return new_list\n",
    "        "
   ]
  },
  {
   "cell_type": "code",
   "execution_count": 215,
   "id": "e411fdd4",
   "metadata": {},
   "outputs": [],
   "source": [
    "li=[1,1,2,2,3,4,5,5,6,7,7]"
   ]
  },
  {
   "cell_type": "code",
   "execution_count": 216,
   "id": "19359dab",
   "metadata": {},
   "outputs": [
    {
     "data": {
      "text/plain": [
       "[1, 2, 3, 4, 5, 6, 7]"
      ]
     },
     "execution_count": 216,
     "metadata": {},
     "output_type": "execute_result"
    }
   ],
   "source": [
    "my_func(li)"
   ]
  },
  {
   "cell_type": "code",
   "execution_count": 222,
   "id": "6092b3b5",
   "metadata": {},
   "outputs": [
    {
     "name": "stdout",
     "output_type": "stream",
     "text": [
      "Pls enter hyphen-seperated sequence of words: no-yes-pls-aint-doodle\n",
      "aint-doodle-no-pls-yes\n"
     ]
    }
   ],
   "source": [
    "##Write a program that accepts a hyphen-separated sequence of words as input and prints the words\n",
    "##in a hyphen-separated sequence after sorting them alphabetically.\n",
    "\n",
    "my_seq=input(\"Pls enter hyphen-seperated sequence of words: \")\n",
    "\n",
    "my_word=[x for x in my_seq.split('-')]\n",
    "\n",
    "my_word.sort()\n",
    "\n",
    "print('-'.join(my_word))"
   ]
  },
  {
   "cell_type": "code",
   "execution_count": 229,
   "id": "6e66bd7d",
   "metadata": {},
   "outputs": [
    {
     "name": "stdout",
     "output_type": "stream",
     "text": [
      "Pls enter a sentance: hello there\n",
      "HELLO THERE\n"
     ]
    }
   ],
   "source": [
    "##Write a program that accepts a sequence of lines as input and prints the lines after making all\n",
    "##characters in the sentence capitalized.\n",
    "\n",
    "my_input=input(\"Pls enter a sentance: \")\n",
    "\n",
    "print(my_input.upper())"
   ]
  },
  {
   "cell_type": "code",
   "execution_count": 239,
   "id": "b649475a",
   "metadata": {},
   "outputs": [],
   "source": [
    "##Define a function that can receive two integral numbers in string form and compute their sum and\n",
    "##print it in the console.\n",
    "\n",
    "def calculatesum(x,y):\n",
    "\n",
    "    sum=int(x)+int(y)\n",
    "    print(\"The sum is:\",sum)"
   ]
  },
  {
   "cell_type": "code",
   "execution_count": 240,
   "id": "786845e8",
   "metadata": {},
   "outputs": [
    {
     "name": "stdout",
     "output_type": "stream",
     "text": [
      "The sum is: 10\n"
     ]
    }
   ],
   "source": [
    "calculatesum(5,5)"
   ]
  },
  {
   "cell_type": "code",
   "execution_count": 249,
   "id": "2c0defb3",
   "metadata": {},
   "outputs": [],
   "source": [
    "##Define a function that can accept two strings as input and print the string with the maximum length\n",
    "##in the console. If two strings have the same length, then the function should print both the strings line\n",
    "##by line.\n",
    "\n",
    "def mystring(a,b):\n",
    "    \n",
    "    a=input(\"Enter a line: \")\n",
    "    b=input(\"Enter a line again: \")\n",
    "    if len(a)==len(b):\n",
    "        print(a)\n",
    "        print(b)\n",
    "    elif len(a)>len(b):\n",
    "        print(a)\n",
    "    elif len(a)<len(b):\n",
    "        print(b)\n",
    "    "
   ]
  },
  {
   "cell_type": "code",
   "execution_count": 254,
   "id": "a98c7864",
   "metadata": {},
   "outputs": [
    {
     "name": "stdout",
     "output_type": "stream",
     "text": [
      "Enter a line: four five\n",
      "Enter a line again: three six\n",
      "four five\n",
      "three six\n"
     ]
    }
   ],
   "source": [
    "mystring(a,b)"
   ]
  },
  {
   "cell_type": "code",
   "execution_count": 211,
   "id": "40e03a1b",
   "metadata": {},
   "outputs": [
    {
     "name": "stdout",
     "output_type": "stream",
     "text": [
      "[1, 4, 9, 16, 25, 36, 49, 64, 81, 100, 121, 144, 169, 196, 225, 256, 289, 324, 361, 400]\n"
     ]
    }
   ],
   "source": [
    "##Define a function which can generate and print a tuple where the values are square of numbers\n",
    "##between 1 and 20 (both 1 and 20 included).\n",
    "\n",
    "def printvalue():\n",
    "    x=[]\n",
    "   \n",
    "    for i in range(1,21):\n",
    "        x.append(i**2)\n",
    "        \n",
    "    print(x)\n",
    "\n",
    "printvalue()\n"
   ]
  },
  {
   "cell_type": "code",
   "execution_count": 212,
   "id": "8a142261",
   "metadata": {},
   "outputs": [
    {
     "name": "stdout",
     "output_type": "stream",
     "text": [
      "[1, 4, 9, 16, 25, 36, 49, 64, 81, 100, 121, 144, 169, 196, 225, 256, 289, 324, 361, 400]\n"
     ]
    }
   ],
   "source": [
    "printvalue()"
   ]
  },
  {
   "cell_type": "code",
   "execution_count": null,
   "id": "e8ecf0cc",
   "metadata": {},
   "outputs": [],
   "source": []
  },
  {
   "cell_type": "code",
   "execution_count": null,
   "id": "b2ad909a",
   "metadata": {},
   "outputs": [],
   "source": []
  },
  {
   "cell_type": "code",
   "execution_count": null,
   "id": "616082d6",
   "metadata": {},
   "outputs": [],
   "source": []
  },
  {
   "cell_type": "code",
   "execution_count": 311,
   "id": "af081560",
   "metadata": {},
   "outputs": [],
   "source": [
    "##Write a function called showNumbers that takes a parameter called limit. It should print all the\n",
    "##numbers between 0 and limit with a label to identify the even and odd numbers.\n",
    "\n",
    "def shownumbers(limit):\n",
    "    for x in range(0,limit):\n",
    "        if x%2==0:\n",
    "            print(x,\"Even\")\n",
    "        else:\n",
    "            print(x,\"Odd\")\n",
    "    "
   ]
  },
  {
   "cell_type": "code",
   "execution_count": 312,
   "id": "af62a309",
   "metadata": {},
   "outputs": [
    {
     "name": "stdout",
     "output_type": "stream",
     "text": [
      "0 Even\n",
      "1 Odd\n",
      "2 Even\n",
      "3 Odd\n"
     ]
    }
   ],
   "source": [
    "shownumbers(4)"
   ]
  },
  {
   "cell_type": "code",
   "execution_count": 327,
   "id": "148bb3c6",
   "metadata": {},
   "outputs": [
    {
     "name": "stdout",
     "output_type": "stream",
     "text": [
      "[0, 2, 4, 6, 8, 10, 12, 14, 16, 18, 20]\n"
     ]
    }
   ],
   "source": [
    "##Write a program which uses filter() to make a list whose elements are even numbers between 1\n",
    "##and 20 (both included)\n",
    "    \n",
    "my_list=[0,1,2,3,4,5,6,7,8,9,10,11,12,13,14,15,16,17,18,19,20]\n",
    "    \n",
    "def myfunc(x): \n",
    "    return x%2==0\n",
    "list1=[]\n",
    "for y in filter(myfunc,my_list):\n",
    "    list1.append(y)\n",
    "print(list1)"
   ]
  },
  {
   "cell_type": "code",
   "execution_count": 342,
   "id": "52a5247d",
   "metadata": {},
   "outputs": [
    {
     "name": "stdout",
     "output_type": "stream",
     "text": [
      "[4, 16, 36, 64, 100]\n"
     ]
    }
   ],
   "source": [
    "##Write a program which uses map() and filter() to make a list whose elements are squares of even\n",
    "##numbers in [1,2,3,4,5,6,7,8,9,10].\n",
    "\n",
    "new_list=[1,2,3,4,5,6,7,8,9,10]\n",
    "\n",
    "def if_even(number):\n",
    "    if number%2 == 0:\n",
    "        return True\n",
    "    else:\n",
    "        return False\n",
    "\n",
    "filtered = []\n",
    "for x in filter(if_even,new_list):\n",
    "    filtered.append(x)\n",
    "    \n",
    "mapped = []\n",
    "for y in map(lambda y: y*y, filtered):\n",
    "    mapped.append(y)\n",
    "    \n",
    "print(mapped)\n",
    "\n",
    "    "
   ]
  },
  {
   "cell_type": "code",
   "execution_count": 346,
   "id": "8490979f",
   "metadata": {},
   "outputs": [
    {
     "name": "stdout",
     "output_type": "stream",
     "text": [
      "nothing can divisible by 0\n",
      "no answer\n"
     ]
    }
   ],
   "source": [
    "##Write a function to compute 5/0 and use try/except to catch the exceptions\n",
    "\n",
    "def compute():\n",
    "    return 5/0\n",
    "\n",
    "try:\n",
    "    compute()\n",
    "except:\n",
    "    print (\"nothing can divisible by 0\")\n",
    "finally:\n",
    "    print (\"no answer\")"
   ]
  },
  {
   "cell_type": "code",
   "execution_count": 456,
   "id": "232a9655",
   "metadata": {},
   "outputs": [
    {
     "data": {
      "text/plain": [
       "12345678"
      ]
     },
     "execution_count": 456,
     "metadata": {},
     "output_type": "execute_result"
    }
   ],
   "source": [
    "##Flatten the list [1,2,3,4,5,6,7] into 1234567 using reduce().\n",
    "import functools\n",
    "from functools import reduce\n",
    "\n",
    "reduce(lambda a,d: 10*a+d, [1,2,3,4,5,6,7,8], 0)\n",
    "\n",
    "# import operator\n",
    "# from functools import reduce\n"
   ]
  },
  {
   "cell_type": "code",
   "execution_count": null,
   "id": "c71d1a02",
   "metadata": {},
   "outputs": [],
   "source": []
  },
  {
   "cell_type": "code",
   "execution_count": 353,
   "id": "9c3ecf51",
   "metadata": {},
   "outputs": [
    {
     "name": "stdout",
     "output_type": "stream",
     "text": [
      "123\n"
     ]
    }
   ],
   "source": [
    "mylist=[1,2,3]\n",
    "joinedstr=''\n",
    "for y in mylist:\n",
    "    joinedstr = joinedstr+str(y)\n",
    "print(joinedstr)"
   ]
  },
  {
   "cell_type": "code",
   "execution_count": 363,
   "id": "bf15250e",
   "metadata": {},
   "outputs": [],
   "source": [
    "##Write a program in Python to find the values which are not divisible by 3 but are a multiple of 7.\n",
    "##Make sure to use only higher order functions.\n",
    "\n",
    "def valfunc(number):\n",
    "    \n",
    "    if x%3 != 0 and x%7==0:\n",
    "        return 'True'\n",
    "    else:\n",
    "        return 'False'\n",
    "    \n",
    "myfunction=valfunc\n"
   ]
  },
  {
   "cell_type": "code",
   "execution_count": 365,
   "id": "90e2ee3b",
   "metadata": {},
   "outputs": [
    {
     "data": {
      "text/plain": [
       "'False'"
      ]
     },
     "execution_count": 365,
     "metadata": {},
     "output_type": "execute_result"
    }
   ],
   "source": [
    "myfunction(49)"
   ]
  },
  {
   "cell_type": "code",
   "execution_count": 366,
   "id": "fa646867",
   "metadata": {},
   "outputs": [
    {
     "name": "stdout",
     "output_type": "stream",
     "text": [
      "1\n",
      "4\n",
      "9\n"
     ]
    }
   ],
   "source": [
    "##Write a program in Python to multiply the elements of a list by itself using a traditional function\n",
    "##and pass the function to map() to complete the operation.\n",
    "\n",
    "def multifunc(num):\n",
    "    return num*num\n",
    "emptylist=[1,2,3]\n",
    "for y in map(multifunc,emptylist):\n",
    "    print(y)\n"
   ]
  },
  {
   "cell_type": "code",
   "execution_count": 369,
   "id": "96b25a21",
   "metadata": {},
   "outputs": [
    {
     "name": "stdout",
     "output_type": "stream",
     "text": [
      "2\n"
     ]
    }
   ],
   "source": [
    "##\n",
    "def foo():\n",
    "    try:\n",
    "        return 1\n",
    "    finally:\n",
    "        return 2\n",
    "k = foo()\n",
    "print(k)"
   ]
  },
  {
   "cell_type": "code",
   "execution_count": 373,
   "id": "05a7e534",
   "metadata": {},
   "outputs": [],
   "source": [
    "def a():\n",
    "    try:\n",
    "        f(x, 4)\n",
    "    finally:\n",
    "        print('after f')\n",
    "        print('after f?')\n",
    "    a()"
   ]
  },
  {
   "cell_type": "code",
   "execution_count": null,
   "id": "986f89b6",
   "metadata": {},
   "outputs": [],
   "source": []
  },
  {
   "cell_type": "code",
   "execution_count": null,
   "id": "e076ceea",
   "metadata": {},
   "outputs": [],
   "source": []
  },
  {
   "cell_type": "code",
   "execution_count": null,
   "id": "19943d35",
   "metadata": {},
   "outputs": [],
   "source": []
  },
  {
   "cell_type": "code",
   "execution_count": 375,
   "id": "7b8a5a1b",
   "metadata": {},
   "outputs": [
    {
     "name": "stdout",
     "output_type": "stream",
     "text": [
      "integer and string cant add\n"
     ]
    }
   ],
   "source": [
    "##Write a program in Python to allow the error of syntax to be handled using exception handling.\n",
    "try:\n",
    "    result=10+'10'\n",
    "except:\n",
    "    print(\"integer and string cant add\")\n",
    "else:\n",
    "    print(result)"
   ]
  },
  {
   "cell_type": "code",
   "execution_count": 413,
   "id": "003a5c02",
   "metadata": {},
   "outputs": [
    {
     "name": "stdout",
     "output_type": "stream",
     "text": [
      "Entered file is not found\n"
     ]
    }
   ],
   "source": [
    "##Write a program in Python to allow the user to open a file by using the argv module. If the\n",
    "##entered name is incorrect throw an exception and ask them to enter the name again. Make sure\n",
    "##to use read only mode.\n",
    "\n",
    "import sys\n",
    "\n",
    "filename = sys.argv[1]\n",
    "try:\n",
    "    with open(filename) as f_obj:\n",
    "        contents = f_obj.read()\n",
    "        print(contents)\n",
    "except FileNotFoundError:\n",
    "    print(\"Entered file is not found\")\n"
   ]
  },
  {
   "cell_type": "code",
   "execution_count": null,
   "id": "7173b686",
   "metadata": {},
   "outputs": [],
   "source": []
  },
  {
   "cell_type": "code",
   "execution_count": null,
   "id": "ec874b90",
   "metadata": {},
   "outputs": [],
   "source": []
  },
  {
   "cell_type": "code",
   "execution_count": 412,
   "id": "4df0d15f",
   "metadata": {},
   "outputs": [
    {
     "name": "stdout",
     "output_type": "stream",
     "text": [
      "Enter a number: 1234\n",
      "You have entered a 4 digit number. Good job!\n"
     ]
    }
   ],
   "source": [
    "##Write a program to handle an error if the user entered a number more than four digits it should\n",
    "##return “The length is too short/long !!! Please provide only four digits”\n",
    "\n",
    "\n",
    "    \n",
    "    # define Python user-defined exceptions\n",
    "class InvalidDigitException(Exception):\n",
    "    \"Raised when length of the input is not equal to 4\"\n",
    "    pass\n",
    "\n",
    "\n",
    "try:\n",
    "    input_num = input(\"Enter a number: \")\n",
    "    if len(input_num) != 4:\n",
    "        raise InvalidDigitException\n",
    "    else:\n",
    "        print(\"You have entered a 4 digit number. Good job!\")\n",
    "        \n",
    "except InvalidDigitException:\n",
    "    print(\"The length is too short/long !!! Please provide only four digits\")\n",
    "    \n",
    "    "
   ]
  },
  {
   "cell_type": "code",
   "execution_count": 401,
   "id": "6f340c5a",
   "metadata": {},
   "outputs": [
    {
     "name": "stdout",
     "output_type": "stream",
     "text": [
      "The length is too short or long\n",
      "pls provide only 4 didgits\n"
     ]
    }
   ],
   "source": [
    "digit(12345)"
   ]
  },
  {
   "cell_type": "code",
   "execution_count": 418,
   "id": "4b9c0062",
   "metadata": {},
   "outputs": [
    {
     "name": "stdout",
     "output_type": "stream",
     "text": [
      "Enter your user name and password: \n",
      "Enter username: dj\n",
      "Enter password: lkj\n",
      "Access Denied\n",
      "Enter username: Reashme\n",
      "Enter password: Reash\n",
      "Access granted\n"
     ]
    }
   ],
   "source": [
    "# Create a login page backend to ask users to enter the username and password. Make sure to\n",
    "# ask for a Re-Type Password and if the password is incorrect give chance to enter it again but it\n",
    "# should not be more than 3 times.\n",
    "\n",
    "print(\"Enter your user name and password: \")\n",
    "\n",
    "count=0\n",
    "\n",
    "while count<3:\n",
    "    username=input(\"Enter username: \")\n",
    "    password=input(\"Enter password: \")\n",
    "    \n",
    "    if password=='Reash' and username=='Reashme':\n",
    "        print(\"Access granted\")\n",
    "        break\n",
    "    else:\n",
    "        print(\"Access Denied\")\n",
    "        count=count+1\n",
    "    \n",
    "    "
   ]
  },
  {
   "cell_type": "code",
   "execution_count": 466,
   "id": "d131ad89",
   "metadata": {},
   "outputs": [
    {
     "name": "stdout",
     "output_type": "stream",
     "text": [
      "['Hello I am a file\\n', 'Where you need to return the data string\\n', 'Which is of even length\\n', 'Make sure you return the content in The same link as it is present.']\n",
      "Hello I am a file\n",
      "\n",
      "Which is of even length\n",
      "\n"
     ]
    }
   ],
   "source": [
    "##Read doc.txt file using Python File handling concept and return only the even length string from\n",
    "##the file. Consider the content of doc.txt as given below:\n",
    "\n",
    "text_file=open('C:\\\\Users\\\\velsa\\\\doc.txt','r')\n",
    "\n",
    "line_list=text_file.readlines()\n",
    "print(line_list)\n",
    "\n",
    "for line in line_list:\n",
    "    if len(line)%2==0:\n",
    "        print(line)\n",
    "        \n",
    "text_file.close()\n"
   ]
  },
  {
   "cell_type": "code",
   "execution_count": null,
   "id": "61c78611",
   "metadata": {},
   "outputs": [],
   "source": []
  },
  {
   "cell_type": "code",
   "execution_count": null,
   "id": "135d3baa",
   "metadata": {},
   "outputs": [],
   "source": []
  },
  {
   "cell_type": "code",
   "execution_count": 380,
   "id": "8b23c032",
   "metadata": {},
   "outputs": [
    {
     "name": "stdout",
     "output_type": "stream",
     "text": [
      "['H', 'T']\n"
     ]
    }
   ],
   "source": [
    "##Write a program in Python to find out the character in a string which is uppercase using list\n",
    "##comprehension.\n",
    "newstring=\"Hello This is reashme\"\n",
    "\n",
    "newlist=[]\n",
    "\n",
    "for x in newstring:\n",
    "    if x.isupper():\n",
    "        newlist.append(x)\n",
    "print(newlist)\n"
   ]
  },
  {
   "cell_type": "code",
   "execution_count": 383,
   "id": "ffc7dc3a",
   "metadata": {},
   "outputs": [
    {
     "name": "stdout",
     "output_type": "stream",
     "text": [
      "{'reash': 'IT', 'savy': 'Mech', 'anu': 'EEE'}\n"
     ]
    }
   ],
   "source": [
    "##Write a program to construct a dictionary from the two lists containing the names of students and\n",
    "##their corresponding subjects. The dictionary should map the students with their respective subjects.\n",
    "##Let’s see how to do this using for loops and dictionary comprehension.\n",
    "\n",
    "keys=['reash','savy','anu']\n",
    "values=['IT','Mech','EEE']\n",
    "    \n",
    "dictonar=dict(zip(keys,values))\n",
    "print(dictonar)"
   ]
  },
  {
   "cell_type": "code",
   "execution_count": 390,
   "id": "7398f866",
   "metadata": {},
   "outputs": [
    {
     "name": "stdout",
     "output_type": "stream",
     "text": [
      "d\n",
      "d\n",
      "a\n",
      "t\n",
      "l\n",
      "u\n",
      "s\n",
      "n\n",
      "o\n",
      "c\n"
     ]
    }
   ],
   "source": [
    "##Write a program in Python using generators to reverse the string.\n",
    "\n",
    "def rev_string(new_str):\n",
    "    length=len(new_str)\n",
    "    for i in range (length-1,-1, -1):\n",
    "        yield new_str[i]\n",
    "        \n",
    "for x in rev_string(\"consultadd\"):\n",
    "    print(x)"
   ]
  },
  {
   "cell_type": "code",
   "execution_count": 392,
   "id": "7a37023c",
   "metadata": {},
   "outputs": [
    {
     "name": "stdout",
     "output_type": "stream",
     "text": [
      "Hello\n",
      "how are you?\n"
     ]
    }
   ],
   "source": [
    "##Write an example on decorators.\n",
    "def say():\n",
    "    print(\"Hello\")\n",
    "def mydec(first):\n",
    "    first()\n",
    "    print(\"how are you?\")\n",
    "mydec(say)  "
   ]
  },
  {
   "cell_type": "code",
   "execution_count": 472,
   "id": "7916c494",
   "metadata": {},
   "outputs": [],
   "source": [
    "##Write a program that calculates and prints the value according to the given formula:\n",
    "##Q= Square root of [(2*C*D)/H]\n",
    "##Following are the fixed values of C and H:\n",
    "import math\n",
    "\n",
    "def squ_root(n):\n",
    "    \n",
    "   # myinput=int(input(\"Enter a value: \"))\n",
    "    c=50\n",
    "    h=30\n",
    "    \n",
    "    print(math.sqrt((2*50*n)/30))\n",
    "\n"
   ]
  },
  {
   "cell_type": "code",
   "execution_count": 473,
   "id": "65afb589",
   "metadata": {},
   "outputs": [
    {
     "name": "stdout",
     "output_type": "stream",
     "text": [
      "8.16496580927726\n"
     ]
    }
   ],
   "source": [
    "squ_root(20)"
   ]
  },
  {
   "cell_type": "code",
   "execution_count": 477,
   "id": "a5e0d31b",
   "metadata": {},
   "outputs": [
    {
     "name": "stdout",
     "output_type": "stream",
     "text": [
      "enter the value of D\n",
      "100,150,180\n",
      "100,150,180\n",
      "['100', '150', '180']\n",
      "[100, 150, 180]\n",
      "output= [18, 22, 24]\n"
     ]
    }
   ],
   "source": [
    "import math\n",
    "\n",
    "C= 50\n",
    "H = 30\n",
    "Ds = []\n",
    "result =[]\n",
    "Dv=input(\"enter the value of D\\n\")\n",
    "\n",
    "Ds=Dv.split(\",\")\n",
    "\n",
    "Ds = [int(i) for i in Ds]\n",
    "\n",
    "i=0\n",
    "l = len(Ds)\n",
    "while(i<l):\n",
    "    Q = round(math.sqrt((2*C*Ds[i])/H))\n",
    "    result. append(Q)\n",
    "    i+=1\n",
    "print(\"output=\",result)"
   ]
  },
  {
   "cell_type": "code",
   "execution_count": 526,
   "id": "4b7d111e",
   "metadata": {},
   "outputs": [],
   "source": [
    "# Define a class named Shape and its subclass Square. The Square class has an init function which\n",
    "# takes length as argument. Both classes have an area function which can print the area of the shape\n",
    "# where Shape’s area is 0 by default.\n",
    "\n",
    "class Shape:\n",
    "    \n",
    "    \n",
    "    def __init__(self):\n",
    "        pass\n",
    "\n",
    "    def area(self,area=0):\n",
    "        print(area)\n",
    "        \n",
    "class Square(Shape):\n",
    "    \n",
    "    def __init__(self,length):\n",
    "        self.length=length\n",
    "    def area(self):\n",
    "        print(self.length*self.length)\n",
    "    \n",
    "        \n",
    "        \n"
   ]
  },
  {
   "cell_type": "code",
   "execution_count": 527,
   "id": "84a4f3b3",
   "metadata": {},
   "outputs": [],
   "source": [
    "my_shape=Shape()"
   ]
  },
  {
   "cell_type": "code",
   "execution_count": 528,
   "id": "bfeacd9d",
   "metadata": {},
   "outputs": [
    {
     "name": "stdout",
     "output_type": "stream",
     "text": [
      "0\n"
     ]
    }
   ],
   "source": [
    "my_shape.area()"
   ]
  },
  {
   "cell_type": "code",
   "execution_count": 529,
   "id": "6d497137",
   "metadata": {},
   "outputs": [],
   "source": [
    "my_square=Square(5)"
   ]
  },
  {
   "cell_type": "code",
   "execution_count": 530,
   "id": "caccc3ce",
   "metadata": {},
   "outputs": [
    {
     "name": "stdout",
     "output_type": "stream",
     "text": [
      "25\n"
     ]
    }
   ],
   "source": [
    "my_square.area()"
   ]
  },
  {
   "cell_type": "code",
   "execution_count": null,
   "id": "61524286",
   "metadata": {},
   "outputs": [],
   "source": []
  },
  {
   "cell_type": "code",
   "execution_count": null,
   "id": "93cad122",
   "metadata": {},
   "outputs": [],
   "source": []
  },
  {
   "cell_type": "code",
   "execution_count": 220,
   "id": "3290c5f7",
   "metadata": {},
   "outputs": [
    {
     "name": "stdout",
     "output_type": "stream",
     "text": [
      "-10 2 8\n",
      "-7 -3 10\n"
     ]
    }
   ],
   "source": [
    "#Create a class to find three elements that sum to zero from a set of n real numbers\n",
    "\n",
    "class Elements():\n",
    "    \n",
    "    def __init__(self):\n",
    "        pass\n",
    "        \n",
    "    def findTriplets(arr):\n",
    "        n = len(arr)\n",
    "        found = False\n",
    "        for i in range(0, n-2):\n",
    "\n",
    "            for j in range(i+1, n-1):\n",
    "\n",
    "                for k in range(j+1, n):\n",
    "\n",
    "                    if (arr[i] + arr[j] + arr[k] == 0):\n",
    "                        print(arr[i], arr[j], arr[k])\n",
    "                        found = True\n",
    "\n",
    "        # If no triplet with 0 sum\n",
    "        # found in array\n",
    "        if (found == False):\n",
    "            print(\" not exist \")\n",
    " \n",
    " \n",
    "# Driver code\n",
    "Elements.findTriplets([-25,-10,-7,-3,2,4,8,10])        "
   ]
  },
  {
   "cell_type": "code",
   "execution_count": null,
   "id": "0b31bb12",
   "metadata": {},
   "outputs": [],
   "source": []
  },
  {
   "cell_type": "code",
   "execution_count": null,
   "id": "f522323d",
   "metadata": {},
   "outputs": [],
   "source": []
  },
  {
   "cell_type": "code",
   "execution_count": null,
   "id": "4f79176e",
   "metadata": {},
   "outputs": [],
   "source": []
  },
  {
   "cell_type": "code",
   "execution_count": 23,
   "id": "4c8eefaa",
   "metadata": {},
   "outputs": [],
   "source": [
    "# Write a Person class with an instance variable “age” and a constructor that takes an integer as a\n",
    "# parameter. The constructor must assign the integer value to the age variable after confirming the\n",
    "# argument passed is not negative; if a negative argument is passed then the constructor should set\n",
    "# age to 0 and print “Age is not valid, setting age to 0”. In addition, you must write the following instance\n",
    "# methods:\n",
    "\n",
    "class Person:\n",
    "    def __init__(self,firstAge):\n",
    "        \n",
    "        self.age=firstAge\n",
    "        if self.age <= -1:\n",
    "            self.age=0\n",
    "            print(\"Age is not valid, setting age to 0.\")\n",
    "            \n",
    "    def yearsold(self):\n",
    "        if self.age < 13:\n",
    "            print(\"You are young.\")\n",
    "        elif 13 <= self.age < 18:\n",
    "            print(\"You are a teenager.\")\n",
    "        else:\n",
    "            print(\"You are old.\")\n",
    "            \n",
    "    def yearPasses(self,agetoadd):\n",
    "        self.age+=agetoadd\n",
    "        print(\"Your age is: \" +str(self.age))\n"
   ]
  },
  {
   "cell_type": "markdown",
   "id": "af2ff2c8",
   "metadata": {},
   "source": [
    "p1 = Person(10)"
   ]
  },
  {
   "cell_type": "code",
   "execution_count": 24,
   "id": "cb5e0aa3",
   "metadata": {},
   "outputs": [],
   "source": [
    "my_person=Person(10)"
   ]
  },
  {
   "cell_type": "code",
   "execution_count": 26,
   "id": "7c292136",
   "metadata": {},
   "outputs": [
    {
     "data": {
      "text/plain": [
       "10"
      ]
     },
     "execution_count": 26,
     "metadata": {},
     "output_type": "execute_result"
    }
   ],
   "source": [
    "my_person.age"
   ]
  },
  {
   "cell_type": "code",
   "execution_count": 28,
   "id": "f97e0860",
   "metadata": {},
   "outputs": [
    {
     "name": "stdout",
     "output_type": "stream",
     "text": [
      "You are young.\n"
     ]
    }
   ],
   "source": [
    "my_person.yearsold()"
   ]
  },
  {
   "cell_type": "code",
   "execution_count": 30,
   "id": "88353908",
   "metadata": {},
   "outputs": [
    {
     "name": "stdout",
     "output_type": "stream",
     "text": [
      "Your age is: 15\n"
     ]
    }
   ],
   "source": [
    "my_person.yearPasses(5)"
   ]
  },
  {
   "cell_type": "code",
   "execution_count": 71,
   "id": "a1b43035",
   "metadata": {},
   "outputs": [
    {
     "name": "stdout",
     "output_type": "stream",
     "text": [
      "Hours: 3\n",
      "Minutes: 50\n",
      "230\n"
     ]
    }
   ],
   "source": [
    "##Create a Time class and initialize it with hours and minutes.\n",
    "\n",
    "class Time:\n",
    "    \n",
    "    def __init__(self,hours,minutes):\n",
    "        self.hours=hours\n",
    "        self.minutes=minutes\n",
    "        \n",
    "    def addtime(t1,t2):\n",
    "        t3=Time(0,0)\n",
    "        if (t1.minutes+t2.minutes)>=60:\n",
    "            t3.hours=(t1.minutes+t2.minutes)//60\n",
    "            t3.hours=t1.hours+t2.hours+t3.hours\n",
    "            t3.minutes=((t1.minutes+t2.minutes)-60)\n",
    "            return t3\n",
    "        else: \n",
    "            t3.hours=t1.hours+t2.hours\n",
    "            t3.minutes=t1.minutes+t2.minutes\n",
    "            return t3\n",
    "    \n",
    "    def displayTime(self):\n",
    "        print(\"Hours: \"+str(self.hours))\n",
    "        print(\"Minutes: \"+str(self.minutes))\n",
    "        \n",
    "    def displayMinute(self):\n",
    "        print((self.hours*60)+self.minutes)\n",
    "        \n",
    "a=Time(1,20)\n",
    "b=Time(2,30)\n",
    "c=Time.addtime(a,b)\n",
    "c.displayTime()\n",
    "c.displayMinute()\n",
    "        \n",
    "        "
   ]
  },
  {
   "cell_type": "code",
   "execution_count": null,
   "id": "80148639",
   "metadata": {},
   "outputs": [],
   "source": []
  },
  {
   "cell_type": "code",
   "execution_count": 88,
   "id": "f9f8df85",
   "metadata": {},
   "outputs": [
    {
     "data": {
      "text/plain": [
       "[1, 2, 3, 4]"
      ]
     },
     "execution_count": 88,
     "metadata": {},
     "output_type": "execute_result"
    }
   ],
   "source": [
    "##Create a list of given structure and get the Access list as provided below:\n",
    "\n",
    "x=[100,200,300,400,500,[1,2,3,4,5,[10,20,30,40,50],6,7,8,9],600,700,800]\n",
    "\n",
    "x[5][0:4]"
   ]
  },
  {
   "cell_type": "code",
   "execution_count": 90,
   "id": "17cb9dd5",
   "metadata": {},
   "outputs": [
    {
     "data": {
      "text/plain": [
       "[600, 700]"
      ]
     },
     "execution_count": 90,
     "metadata": {},
     "output_type": "execute_result"
    }
   ],
   "source": [
    "x[6:8]"
   ]
  },
  {
   "cell_type": "code",
   "execution_count": 91,
   "id": "be6baae8",
   "metadata": {},
   "outputs": [
    {
     "data": {
      "text/plain": [
       "[100, 200, 300, 400, 500]"
      ]
     },
     "execution_count": 91,
     "metadata": {},
     "output_type": "execute_result"
    }
   ],
   "source": [
    "x[0:5]"
   ]
  },
  {
   "cell_type": "code",
   "execution_count": 93,
   "id": "74476a1a",
   "metadata": {},
   "outputs": [
    {
     "data": {
      "text/plain": [
       "10"
      ]
     },
     "execution_count": 93,
     "metadata": {},
     "output_type": "execute_result"
    }
   ],
   "source": [
    "x[5][5][0]"
   ]
  },
  {
   "cell_type": "code",
   "execution_count": 94,
   "id": "77f72451",
   "metadata": {},
   "outputs": [
    {
     "data": {
      "text/plain": [
       "[100,\n",
       " 200,\n",
       " 300,\n",
       " 400,\n",
       " 500,\n",
       " [1, 2, 3, 4, 5, [10, 20, 30, 40, 50], 6, 7, 8, 9],\n",
       " 600,\n",
       " 700]"
      ]
     },
     "execution_count": 94,
     "metadata": {},
     "output_type": "execute_result"
    }
   ],
   "source": [
    "x[:-1]"
   ]
  },
  {
   "cell_type": "code",
   "execution_count": 104,
   "id": "bcbb8a57",
   "metadata": {},
   "outputs": [
    {
     "name": "stdout",
     "output_type": "stream",
     "text": [
      "0\n",
      "1\n",
      "2\n",
      "3\n",
      "4\n",
      "5\n",
      "6\n",
      "7\n",
      "8\n",
      "9\n",
      "10\n",
      "11\n",
      "12\n",
      "13\n",
      "14\n",
      "15\n",
      "16\n",
      "17\n",
      "18\n",
      "19\n",
      "20\n",
      "21\n",
      "22\n",
      "23\n",
      "24\n",
      "25\n",
      "26\n",
      "27\n",
      "28\n",
      "29\n",
      "30\n",
      "31\n",
      "32\n",
      "33\n",
      "34\n",
      "35\n",
      "36\n",
      "37\n",
      "38\n",
      "39\n",
      "40\n",
      "41\n",
      "42\n",
      "43\n",
      "44\n",
      "45\n",
      "46\n",
      "47\n",
      "48\n",
      "49\n",
      "50\n",
      "51\n",
      "52\n",
      "53\n",
      "54\n",
      "55\n",
      "56\n",
      "57\n",
      "58\n",
      "59\n",
      "60\n",
      "61\n",
      "62\n",
      "63\n",
      "64\n",
      "65\n",
      "66\n",
      "67\n",
      "68\n",
      "69\n",
      "70\n",
      "71\n",
      "72\n",
      "73\n",
      "74\n",
      "75\n",
      "76\n",
      "77\n",
      "78\n",
      "79\n",
      "80\n",
      "81\n",
      "82\n",
      "83\n",
      "84\n",
      "85\n",
      "86\n",
      "87\n",
      "88\n",
      "89\n",
      "90\n",
      "91\n",
      "92\n",
      "93\n",
      "94\n",
      "95\n",
      "96\n",
      "97\n",
      "98\n",
      "99\n",
      "100\n",
      "101\n",
      "102\n",
      "103\n",
      "104\n",
      "105\n",
      "106\n",
      "107\n",
      "108\n",
      "109\n",
      "110\n",
      "111\n",
      "112\n",
      "113\n",
      "114\n",
      "115\n",
      "116\n",
      "117\n",
      "118\n",
      "119\n",
      "120\n",
      "121\n",
      "122\n",
      "123\n",
      "124\n",
      "125\n",
      "126\n",
      "127\n",
      "128\n",
      "129\n",
      "130\n",
      "131\n",
      "132\n",
      "133\n",
      "134\n",
      "135\n",
      "136\n",
      "137\n",
      "138\n",
      "139\n",
      "140\n",
      "141\n",
      "142\n",
      "143\n",
      "144\n",
      "145\n",
      "146\n",
      "147\n",
      "148\n",
      "149\n",
      "150\n",
      "151\n",
      "152\n",
      "153\n",
      "154\n",
      "155\n",
      "156\n",
      "157\n",
      "158\n",
      "159\n",
      "160\n",
      "161\n",
      "162\n",
      "163\n",
      "164\n",
      "165\n",
      "166\n",
      "167\n",
      "168\n",
      "169\n",
      "170\n",
      "171\n",
      "172\n",
      "173\n",
      "174\n",
      "175\n",
      "176\n",
      "177\n",
      "178\n",
      "179\n",
      "180\n",
      "181\n",
      "182\n",
      "183\n",
      "184\n",
      "185\n",
      "186\n",
      "187\n",
      "188\n",
      "189\n",
      "190\n",
      "191\n",
      "192\n",
      "193\n",
      "194\n",
      "195\n",
      "196\n",
      "197\n",
      "198\n",
      "199\n",
      "200\n",
      "201\n",
      "202\n",
      "203\n",
      "204\n",
      "205\n",
      "206\n",
      "207\n",
      "208\n",
      "209\n",
      "210\n",
      "211\n",
      "212\n",
      "213\n",
      "214\n",
      "215\n",
      "216\n",
      "217\n",
      "218\n",
      "219\n",
      "220\n",
      "221\n",
      "222\n",
      "223\n",
      "224\n",
      "225\n",
      "226\n",
      "227\n",
      "228\n",
      "229\n",
      "230\n",
      "231\n",
      "232\n",
      "233\n",
      "234\n",
      "235\n",
      "236\n",
      "237\n",
      "238\n",
      "239\n",
      "240\n",
      "241\n",
      "242\n",
      "243\n",
      "244\n",
      "245\n",
      "246\n",
      "247\n",
      "248\n",
      "249\n",
      "250\n",
      "251\n",
      "252\n",
      "253\n",
      "254\n",
      "255\n",
      "256\n",
      "257\n",
      "258\n",
      "259\n",
      "260\n",
      "261\n",
      "262\n",
      "263\n",
      "264\n",
      "265\n",
      "266\n",
      "267\n",
      "268\n",
      "269\n",
      "270\n",
      "271\n",
      "272\n",
      "273\n",
      "274\n",
      "275\n",
      "276\n",
      "277\n",
      "278\n",
      "279\n",
      "280\n",
      "281\n",
      "282\n",
      "283\n",
      "284\n",
      "285\n",
      "286\n",
      "287\n",
      "288\n",
      "289\n",
      "290\n",
      "291\n",
      "292\n",
      "293\n",
      "294\n",
      "295\n",
      "296\n",
      "297\n",
      "298\n",
      "299\n",
      "300\n",
      "301\n",
      "302\n",
      "303\n",
      "304\n",
      "305\n",
      "306\n",
      "307\n",
      "308\n",
      "309\n",
      "310\n",
      "311\n",
      "312\n",
      "313\n",
      "314\n",
      "315\n",
      "316\n",
      "317\n",
      "318\n",
      "319\n",
      "320\n",
      "321\n",
      "322\n",
      "323\n",
      "324\n",
      "325\n",
      "326\n",
      "327\n",
      "328\n",
      "329\n",
      "330\n",
      "331\n",
      "332\n",
      "333\n",
      "334\n",
      "335\n",
      "336\n",
      "337\n",
      "338\n",
      "339\n",
      "340\n",
      "341\n",
      "342\n",
      "343\n",
      "344\n",
      "345\n",
      "346\n",
      "347\n",
      "348\n",
      "349\n",
      "350\n",
      "351\n",
      "352\n",
      "353\n",
      "354\n",
      "355\n",
      "356\n",
      "357\n",
      "358\n",
      "359\n",
      "360\n",
      "361\n",
      "362\n",
      "363\n",
      "364\n",
      "365\n",
      "366\n",
      "367\n",
      "368\n",
      "369\n",
      "370\n",
      "371\n",
      "372\n",
      "373\n",
      "374\n",
      "375\n",
      "376\n",
      "377\n",
      "378\n",
      "379\n",
      "380\n",
      "381\n",
      "382\n",
      "383\n",
      "384\n",
      "385\n",
      "386\n",
      "387\n",
      "388\n",
      "389\n",
      "390\n",
      "391\n",
      "392\n",
      "393\n",
      "394\n",
      "395\n",
      "396\n",
      "397\n",
      "398\n",
      "399\n",
      "400\n",
      "401\n",
      "402\n",
      "403\n",
      "404\n",
      "405\n",
      "406\n",
      "407\n",
      "408\n",
      "409\n",
      "410\n",
      "411\n",
      "412\n",
      "413\n",
      "414\n",
      "415\n",
      "416\n",
      "417\n",
      "418\n",
      "419\n",
      "420\n",
      "421\n",
      "422\n",
      "423\n",
      "424\n",
      "425\n",
      "426\n",
      "427\n",
      "428\n",
      "429\n",
      "430\n",
      "431\n",
      "432\n",
      "433\n",
      "434\n",
      "435\n",
      "436\n",
      "437\n",
      "438\n",
      "439\n",
      "440\n",
      "441\n",
      "442\n",
      "443\n",
      "444\n",
      "445\n",
      "446\n",
      "447\n",
      "448\n",
      "449\n",
      "450\n",
      "451\n",
      "452\n",
      "453\n",
      "454\n",
      "455\n",
      "456\n",
      "457\n",
      "458\n",
      "459\n",
      "460\n",
      "461\n",
      "462\n",
      "463\n",
      "464\n",
      "465\n",
      "466\n",
      "467\n",
      "468\n",
      "469\n",
      "470\n",
      "471\n",
      "472\n",
      "473\n",
      "474\n",
      "475\n",
      "476\n",
      "477\n",
      "478\n",
      "479\n",
      "480\n",
      "481\n",
      "482\n",
      "483\n",
      "484\n",
      "485\n",
      "486\n",
      "487\n",
      "488\n",
      "489\n",
      "490\n",
      "491\n",
      "492\n",
      "493\n",
      "494\n",
      "495\n",
      "496\n",
      "497\n",
      "498\n",
      "499\n",
      "500\n",
      "501\n",
      "502\n",
      "503\n",
      "504\n",
      "505\n",
      "506\n",
      "507\n",
      "508\n",
      "509\n",
      "510\n",
      "511\n",
      "512\n",
      "513\n",
      "514\n",
      "515\n",
      "516\n",
      "517\n",
      "518\n",
      "519\n",
      "520\n",
      "521\n",
      "522\n",
      "523\n",
      "524\n",
      "525\n",
      "526\n",
      "527\n",
      "528\n",
      "529\n",
      "530\n",
      "531\n",
      "532\n",
      "533\n",
      "534\n",
      "535\n",
      "536\n",
      "537\n",
      "538\n",
      "539\n",
      "540\n",
      "541\n",
      "542\n",
      "543\n",
      "544\n",
      "545\n",
      "546\n",
      "547\n",
      "548\n",
      "549\n",
      "550\n",
      "551\n",
      "552\n",
      "553\n",
      "554\n",
      "555\n",
      "556\n",
      "557\n",
      "558\n",
      "559\n",
      "560\n",
      "561\n",
      "562\n",
      "563\n",
      "564\n",
      "565\n",
      "566\n",
      "567\n",
      "568\n",
      "569\n",
      "570\n",
      "571\n",
      "572\n",
      "573\n",
      "574\n",
      "575\n",
      "576\n",
      "577\n",
      "578\n",
      "579\n",
      "580\n",
      "581\n",
      "582\n",
      "583\n",
      "584\n",
      "585\n",
      "586\n",
      "587\n",
      "588\n",
      "589\n",
      "590\n",
      "591\n",
      "592\n",
      "593\n",
      "594\n",
      "595\n",
      "596\n",
      "597\n",
      "598\n",
      "599\n",
      "600\n",
      "601\n",
      "602\n",
      "603\n",
      "604\n",
      "605\n",
      "606\n",
      "607\n",
      "608\n",
      "609\n",
      "610\n",
      "611\n",
      "612\n",
      "613\n",
      "614\n",
      "615\n",
      "616\n",
      "617\n",
      "618\n",
      "619\n",
      "620\n",
      "621\n",
      "622\n",
      "623\n",
      "624\n",
      "625\n",
      "626\n",
      "627\n",
      "628\n",
      "629\n",
      "630\n",
      "631\n",
      "632\n",
      "633\n",
      "634\n",
      "635\n",
      "636\n",
      "637\n",
      "638\n",
      "639\n",
      "640\n",
      "641\n",
      "642\n",
      "643\n",
      "644\n",
      "645\n",
      "646\n",
      "647\n",
      "648\n",
      "649\n",
      "650\n",
      "651\n",
      "652\n",
      "653\n",
      "654\n",
      "655\n",
      "656\n",
      "657\n",
      "658\n",
      "659\n",
      "660\n",
      "661\n",
      "662\n",
      "663\n",
      "664\n",
      "665\n",
      "666\n",
      "667\n",
      "668\n",
      "669\n",
      "670\n",
      "671\n",
      "672\n",
      "673\n",
      "674\n",
      "675\n",
      "676\n",
      "677\n",
      "678\n",
      "679\n",
      "680\n",
      "681\n",
      "682\n",
      "683\n",
      "684\n",
      "685\n",
      "686\n",
      "687\n",
      "688\n",
      "689\n",
      "690\n",
      "691\n",
      "692\n",
      "693\n",
      "694\n",
      "695\n",
      "696\n",
      "697\n",
      "698\n",
      "699\n",
      "700\n",
      "701\n",
      "702\n",
      "703\n",
      "704\n",
      "705\n",
      "706\n",
      "707\n",
      "708\n",
      "709\n",
      "710\n",
      "711\n",
      "712\n",
      "713\n",
      "714\n",
      "715\n",
      "716\n",
      "717\n",
      "718\n",
      "719\n",
      "720\n",
      "721\n",
      "722\n",
      "723\n",
      "724\n",
      "725\n",
      "726\n",
      "727\n",
      "728\n",
      "729\n",
      "730\n",
      "731\n",
      "732\n",
      "733\n",
      "734\n",
      "735\n",
      "736\n",
      "737\n",
      "738\n",
      "739\n",
      "740\n",
      "741\n",
      "742\n",
      "743\n",
      "744\n",
      "745\n",
      "746\n",
      "747\n",
      "748\n",
      "749\n",
      "750\n",
      "751\n",
      "752\n",
      "753\n",
      "754\n",
      "755\n",
      "756\n",
      "757\n",
      "758\n",
      "759\n",
      "760\n",
      "761\n",
      "762\n",
      "763\n",
      "764\n",
      "765\n",
      "766\n",
      "767\n",
      "768\n",
      "769\n",
      "770\n",
      "771\n",
      "772\n",
      "773\n",
      "774\n",
      "775\n",
      "776\n",
      "777\n",
      "778\n",
      "779\n",
      "780\n",
      "781\n",
      "782\n",
      "783\n",
      "784\n",
      "785\n",
      "786\n",
      "787\n",
      "788\n",
      "789\n",
      "790\n",
      "791\n",
      "792\n",
      "793\n",
      "794\n",
      "795\n",
      "796\n",
      "797\n",
      "798\n",
      "799\n",
      "800\n",
      "801\n",
      "802\n",
      "803\n",
      "804\n",
      "805\n",
      "806\n",
      "807\n",
      "808\n",
      "809\n",
      "810\n",
      "811\n",
      "812\n",
      "813\n",
      "814\n",
      "815\n",
      "816\n",
      "817\n",
      "818\n",
      "819\n",
      "820\n",
      "821\n",
      "822\n",
      "823\n",
      "824\n",
      "825\n",
      "826\n",
      "827\n",
      "828\n",
      "829\n",
      "830\n",
      "831\n",
      "832\n",
      "833\n",
      "834\n",
      "835\n",
      "836\n",
      "837\n",
      "838\n",
      "839\n",
      "840\n",
      "841\n",
      "842\n",
      "843\n",
      "844\n",
      "845\n",
      "846\n",
      "847\n",
      "848\n",
      "849\n",
      "850\n",
      "851\n",
      "852\n",
      "853\n",
      "854\n",
      "855\n",
      "856\n",
      "857\n",
      "858\n",
      "859\n",
      "860\n",
      "861\n",
      "862\n",
      "863\n",
      "864\n",
      "865\n",
      "866\n",
      "867\n",
      "868\n",
      "869\n",
      "870\n",
      "871\n",
      "872\n",
      "873\n",
      "874\n",
      "875\n",
      "876\n",
      "877\n",
      "878\n",
      "879\n",
      "880\n",
      "881\n",
      "882\n",
      "883\n",
      "884\n",
      "885\n",
      "886\n",
      "887\n",
      "888\n",
      "889\n",
      "890\n",
      "891\n",
      "892\n",
      "893\n",
      "894\n",
      "895\n",
      "896\n",
      "897\n",
      "898\n",
      "899\n",
      "900\n",
      "901\n",
      "902\n",
      "903\n",
      "904\n",
      "905\n",
      "906\n",
      "907\n",
      "908\n",
      "909\n",
      "910\n",
      "911\n",
      "912\n",
      "913\n",
      "914\n",
      "915\n",
      "916\n",
      "917\n",
      "918\n",
      "919\n",
      "920\n",
      "921\n",
      "922\n",
      "923\n",
      "924\n",
      "925\n",
      "926\n",
      "927\n",
      "928\n",
      "929\n",
      "930\n",
      "931\n",
      "932\n",
      "933\n",
      "934\n",
      "935\n",
      "936\n",
      "937\n",
      "938\n",
      "939\n",
      "940\n",
      "941\n",
      "942\n",
      "943\n",
      "944\n",
      "945\n",
      "946\n",
      "947\n",
      "948\n",
      "949\n",
      "950\n",
      "951\n",
      "952\n",
      "953\n",
      "954\n",
      "955\n",
      "956\n",
      "957\n",
      "958\n",
      "959\n",
      "960\n",
      "961\n",
      "962\n",
      "963\n",
      "964\n",
      "965\n",
      "966\n",
      "967\n",
      "968\n",
      "969\n",
      "970\n",
      "971\n",
      "972\n",
      "973\n",
      "974\n",
      "975\n",
      "976\n",
      "977\n",
      "978\n",
      "979\n",
      "980\n",
      "981\n",
      "982\n",
      "983\n",
      "984\n",
      "985\n",
      "986\n",
      "987\n",
      "988\n",
      "989\n",
      "990\n",
      "991\n",
      "992\n",
      "993\n",
      "994\n",
      "995\n",
      "996\n",
      "997\n",
      "998\n",
      "999\n",
      "1000\n"
     ]
    }
   ],
   "source": [
    "#Create a list of thousand numbers using range and xrange and see the difference between each\n",
    "#other.\n",
    "\n",
    "for i in range (0,1001):\n",
    "    print(i)\n"
   ]
  },
  {
   "cell_type": "code",
   "execution_count": 105,
   "id": "a1706d92",
   "metadata": {},
   "outputs": [
    {
     "ename": "NameError",
     "evalue": "name 'xrange' is not defined",
     "output_type": "error",
     "traceback": [
      "\u001b[1;31m---------------------------------------------------------------------------\u001b[0m",
      "\u001b[1;31mNameError\u001b[0m                                 Traceback (most recent call last)",
      "\u001b[1;32m<ipython-input-105-0e51dfc05ea7>\u001b[0m in \u001b[0;36m<module>\u001b[1;34m\u001b[0m\n\u001b[0;32m      1\u001b[0m \u001b[0mend\u001b[0m\u001b[1;33m=\u001b[0m\u001b[1;36m1000\u001b[0m\u001b[1;33m\u001b[0m\u001b[1;33m\u001b[0m\u001b[0m\n\u001b[1;32m----> 2\u001b[1;33m \u001b[0mx\u001b[0m\u001b[1;33m=\u001b[0m\u001b[0mxrange\u001b[0m\u001b[1;33m(\u001b[0m\u001b[0mend\u001b[0m\u001b[1;33m)\u001b[0m\u001b[1;33m\u001b[0m\u001b[1;33m\u001b[0m\u001b[0m\n\u001b[0m\u001b[0;32m      3\u001b[0m \u001b[0mprint\u001b[0m\u001b[1;33m(\u001b[0m\u001b[0mx\u001b[0m\u001b[1;33m)\u001b[0m\u001b[1;33m\u001b[0m\u001b[1;33m\u001b[0m\u001b[0m\n\u001b[0;32m      4\u001b[0m \u001b[1;32mfor\u001b[0m \u001b[0mn\u001b[0m \u001b[1;32min\u001b[0m \u001b[0mx\u001b[0m\u001b[1;33m:\u001b[0m\u001b[1;33m\u001b[0m\u001b[1;33m\u001b[0m\u001b[0m\n\u001b[0;32m      5\u001b[0m     \u001b[0mprint\u001b[0m\u001b[1;33m(\u001b[0m\u001b[0mn\u001b[0m\u001b[1;33m)\u001b[0m\u001b[1;33m\u001b[0m\u001b[1;33m\u001b[0m\u001b[0m\n",
      "\u001b[1;31mNameError\u001b[0m: name 'xrange' is not defined"
     ]
    }
   ],
   "source": [
    "end=1000\n",
    "x= xrange(end)\n",
    "print(x)\n",
    "for n in x:\n",
    "    print(n)"
   ]
  },
  {
   "cell_type": "code",
   "execution_count": 108,
   "id": "757664bf",
   "metadata": {},
   "outputs": [],
   "source": [
    "##How Tuple is beneficial as compared to the list?\n",
    "\n",
    "##Tuples are immutable and more memory efficient."
   ]
  },
  {
   "cell_type": "code",
   "execution_count": 112,
   "id": "abe76188",
   "metadata": {},
   "outputs": [
    {
     "name": "stdout",
     "output_type": "stream",
     "text": [
      "[6, 12, 18, 24, 30, 36, 42, 48, 54, 60, 66, 72, 78, 84, 90, 96]\n"
     ]
    }
   ],
   "source": [
    "##Write a program in Python to iterate through the list of numbers in the range of 1,100 and print\n",
    "##the number which is divisible by 3 and is a multiple of 2.\n",
    "\n",
    "count=[]\n",
    "\n",
    "for x in range(1,101):\n",
    "    if x%3==0 and x%2==0:\n",
    "        count.append(x)\n",
    "        \n",
    "print(count)\n",
    "    "
   ]
  },
  {
   "cell_type": "code",
   "execution_count": 133,
   "id": "009fc544",
   "metadata": {},
   "outputs": [
    {
     "name": "stdout",
     "output_type": "stream",
     "text": [
      "aeioaue\n",
      "eulc awoi elppa\n",
      "index of a:  0\n",
      "index of e:  4\n",
      "index of i:  6\n",
      "index of o:  7\n",
      "index of u:  13\n"
     ]
    }
   ],
   "source": [
    "##Write a program in Python to reverse a string and print only the vowel alphabet if it exists in the\n",
    "##string with their index.\n",
    "\n",
    "vowel=\"\"\n",
    "\n",
    "word_string=\"apple iowa clue\"\n",
    "\n",
    "\n",
    "for x in word_string:\n",
    "    if x in \"aeiouAEIOU\":\n",
    "        vowel=vowel+x\n",
    "        \n",
    "index=word_string.index('a')\n",
    "index1=word_string.index('e')\n",
    "index2=word_string.index('i')\n",
    "index3=word_string.index('o')\n",
    "index4=word_string.index('u')\n",
    "print(vowel)\n",
    "print(word_string[::-1])\n",
    "print(\"index of a: \",index)\n",
    "print(\"index of e: \",index1)\n",
    "print(\"index of i: \",index2)\n",
    "print(\"index of o: \",index3)\n",
    "print(\"index of u: \",index4)"
   ]
  },
  {
   "cell_type": "code",
   "execution_count": 136,
   "id": "ceddd43e",
   "metadata": {},
   "outputs": [
    {
     "name": "stdout",
     "output_type": "stream",
     "text": [
      "my\n",
      "name\n",
      "is\n"
     ]
    }
   ],
   "source": [
    "##Write a program in Python to iterate through the string “hello my name is abcde” and print the\n",
    "##string which is having an even length.\n",
    "\n",
    "my_string=\"hello my name is reash\"\n",
    "\n",
    "x=my_string.split()\n",
    "\n",
    "result=[]\n",
    "\n",
    "for i in x:\n",
    "    if len(i)%2==0:\n",
    "        result.append(i)\n",
    "        print(i)\n",
    "        "
   ]
  },
  {
   "cell_type": "code",
   "execution_count": 141,
   "id": "b0ff9011",
   "metadata": {},
   "outputs": [
    {
     "name": "stdout",
     "output_type": "stream",
     "text": [
      "(1, 7)\n",
      "(2, 6)\n",
      "(3, 5)\n",
      "(9, -1)\n"
     ]
    }
   ],
   "source": [
    "##Write a program in python to print the pair of numbers whose sum is equal to the result\n",
    "##number that is let's say 8.\n",
    "\n",
    "def printPairs(arr, n, sum):\n",
    " \n",
    "    \n",
    "    for i in range(0, n ):\n",
    "        for j in range(i + 1, n ):\n",
    "            if (arr[i] + arr[j] == sum):\n",
    "                print(\"(\", arr[i],\n",
    "                      \", \", arr[j],\n",
    "                      \")\", sep = \"\")\n",
    " \n",
    " \n",
    "\n",
    "arr =[1,2,3,4,5,6,7,8,9,-1]\n",
    "n = len(arr)\n",
    "sum = 8\n",
    "printPairs(arr, n, sum)"
   ]
  },
  {
   "cell_type": "code",
   "execution_count": 156,
   "id": "c2555dcb",
   "metadata": {},
   "outputs": [
    {
     "name": "stdout",
     "output_type": "stream",
     "text": [
      "pls enter a number between 1-50: 1\n",
      "pls enter a number between 1-50: 2\n",
      "pls enter a number between 1-50: 3\n",
      "pls enter a number between 1-50: 4\n",
      "pls enter a number between 1-50: 5\n",
      "pls enter a number between 1-50: 6\n",
      "pls enter a number between 1-50: 7\n",
      "pls enter a number between 1-50: 8\n",
      "pls enter a number between 1-50: 9\n",
      "20\n",
      "16\n",
      "[0, 2, 4, 6, 8]\n",
      "[1, 3, 5, 7]\n",
      "The max number in evenlist:  8\n",
      "The max number is odddlist:  7\n"
     ]
    }
   ],
   "source": [
    "##Write a program in Python to complete the following task:\n",
    "##Create two lists such as even_list and odd_list\n",
    "\n",
    "evenlist=[]\n",
    "oddlist=[]\n",
    "\n",
    "for i in range(0,51):\n",
    "    \n",
    "    user_input=int(input(\"pls enter a number between 1-50: \"))\n",
    "    \n",
    "    if i%2==0:\n",
    "        evenlist.append(i)\n",
    "        if len(evenlist)>=5:\n",
    "            break\n",
    "    elif i%2==1:\n",
    "        oddlist.append(i)\n",
    "        if len(oddlist)>=5:\n",
    "            break\n",
    "            \n",
    "total_even = 0\n",
    "total_odd = 0\n",
    "\n",
    "for i in evenlist:\n",
    "    total_even = total_even + i\n",
    "for i in oddlist:\n",
    "    total_odd = total_odd + i\n",
    "    \n",
    "# total_even = sum(evenlist)\n",
    "# total_odd = sum(oddlist)\n",
    "\n",
    "print(total_even)\n",
    "print(total_odd)\n",
    "sum1=max(evenlist)\n",
    "sum2=max(oddlist)\n",
    "print(evenlist)\n",
    "print(oddlist)\n",
    "print(\"The max number in evenlist: \",sum1)\n",
    "print(\"The max number is odddlist: \",sum2)"
   ]
  },
  {
   "cell_type": "code",
   "execution_count": 180,
   "id": "f9f16e22",
   "metadata": {},
   "outputs": [
    {
     "name": "stdout",
     "output_type": "stream",
     "text": [
      "['a', 'b', 'c', 'b', 'a', 'c', 'b', 'a', 'b', 'a', 'a', 'b']\n"
     ]
    },
    {
     "data": {
      "text/plain": [
       "Counter({'a': 5, 'b': 5, 'c': 2})"
      ]
     },
     "execution_count": 180,
     "metadata": {},
     "output_type": "execute_result"
    }
   ],
   "source": [
    "#Write a program to find out the occurrence of a specific character from an alphanumeric string.\n",
    "\n",
    "#def alpha_string(mystring):\n",
    "from collections import Counter\n",
    "\n",
    "mystring=\"12abcbacbaba344ab\"    \n",
    "    \n",
    "alphabet = list(string.ascii_letters)\n",
    "    \n",
    "alpha1=[]\n",
    "\n",
    "    \n",
    "for x in mystring:\n",
    "    if x in alphabet:\n",
    "        alpha1.append(x)\n",
    "    \n",
    "            \n",
    "print(alpha1)\n",
    "Counter(alpha1)\n",
    "\n",
    "            \n",
    "            \n"
   ]
  },
  {
   "cell_type": "code",
   "execution_count": 190,
   "id": "700482c0",
   "metadata": {},
   "outputs": [
    {
     "name": "stdout",
     "output_type": "stream",
     "text": [
      "(2, 4, 6, 8, 10)\n"
     ]
    }
   ],
   "source": [
    "##Generate and print another tuple whose values are even numbers in the given tuple\n",
    "\n",
    "    \n",
    "my_tuple=(1,2,3,4,5,6,7,8,9,10)\n",
    "\n",
    "eventuple=[]\n",
    "\n",
    "for i in my_tuple:\n",
    "    if i%2==0:\n",
    "        eventuple.append(i)\n",
    "        \n",
    "print(tuple(eventuple))"
   ]
  },
  {
   "cell_type": "code",
   "execution_count": null,
   "id": "12dfd7c3",
   "metadata": {},
   "outputs": [],
   "source": []
  },
  {
   "cell_type": "code",
   "execution_count": null,
   "id": "59aa2c4c",
   "metadata": {},
   "outputs": [],
   "source": []
  },
  {
   "cell_type": "code",
   "execution_count": null,
   "id": "f30c41ab",
   "metadata": {},
   "outputs": [],
   "source": []
  },
  {
   "cell_type": "code",
   "execution_count": null,
   "id": "797cca25",
   "metadata": {},
   "outputs": [],
   "source": []
  },
  {
   "cell_type": "code",
   "execution_count": null,
   "id": "ad03a718",
   "metadata": {},
   "outputs": [],
   "source": []
  }
 ],
 "metadata": {
  "kernelspec": {
   "display_name": "Python 3",
   "language": "python",
   "name": "python3"
  },
  "language_info": {
   "codemirror_mode": {
    "name": "ipython",
    "version": 3
   },
   "file_extension": ".py",
   "mimetype": "text/x-python",
   "name": "python",
   "nbconvert_exporter": "python",
   "pygments_lexer": "ipython3",
   "version": "3.8.8"
  }
 },
 "nbformat": 4,
 "nbformat_minor": 5
}
